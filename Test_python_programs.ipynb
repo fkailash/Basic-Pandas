{
 "cells": [
  {
   "cell_type": "code",
   "execution_count": 5,
   "id": "05ae3cba-5a87-451b-b560-a6a3b99e8fa8",
   "metadata": {},
   "outputs": [],
   "source": [
    "import pandas as pd\n",
    "import json"
   ]
  },
  {
   "cell_type": "code",
   "execution_count": 15,
   "id": "bb6ef5f0-bc29-4541-b423-0c63cdbd64cd",
   "metadata": {},
   "outputs": [],
   "source": [
    "path='D:/Data_analyst/Power_BI/Cricket_Analysis/Data/t20_json_files/t20_wc_match_results.json'\n",
    "with open('{}'.format(path)) as f:\n",
    "    data = json.load(f)"
   ]
  },
  {
   "cell_type": "code",
   "execution_count": 23,
   "id": "b74e2108-8764-4d32-aacc-869f473bc71f",
   "metadata": {},
   "outputs": [
    {
     "data": {
      "text/html": [
       "<div>\n",
       "<style scoped>\n",
       "    .dataframe tbody tr th:only-of-type {\n",
       "        vertical-align: middle;\n",
       "    }\n",
       "\n",
       "    .dataframe tbody tr th {\n",
       "        vertical-align: top;\n",
       "    }\n",
       "\n",
       "    .dataframe thead th {\n",
       "        text-align: right;\n",
       "    }\n",
       "</style>\n",
       "<table border=\"1\" class=\"dataframe\">\n",
       "  <thead>\n",
       "    <tr style=\"text-align: right;\">\n",
       "      <th></th>\n",
       "      <th>team1</th>\n",
       "      <th>team2</th>\n",
       "      <th>winner</th>\n",
       "      <th>margin</th>\n",
       "      <th>ground</th>\n",
       "      <th>matchDate</th>\n",
       "      <th>scorecard</th>\n",
       "    </tr>\n",
       "  </thead>\n",
       "  <tbody>\n",
       "    <tr>\n",
       "      <th>0</th>\n",
       "      <td>Namibia</td>\n",
       "      <td>Sri Lanka</td>\n",
       "      <td>Namibia</td>\n",
       "      <td>55 runs</td>\n",
       "      <td>Geelong</td>\n",
       "      <td>Oct 16, 2022</td>\n",
       "      <td>T20I # 1823</td>\n",
       "    </tr>\n",
       "    <tr>\n",
       "      <th>1</th>\n",
       "      <td>Netherlands</td>\n",
       "      <td>U.A.E.</td>\n",
       "      <td>Netherlands</td>\n",
       "      <td>3 wickets</td>\n",
       "      <td>Geelong</td>\n",
       "      <td>Oct 16, 2022</td>\n",
       "      <td>T20I # 1825</td>\n",
       "    </tr>\n",
       "    <tr>\n",
       "      <th>2</th>\n",
       "      <td>Scotland</td>\n",
       "      <td>West Indies</td>\n",
       "      <td>Scotland</td>\n",
       "      <td>42 runs</td>\n",
       "      <td>Hobart</td>\n",
       "      <td>Oct 17, 2022</td>\n",
       "      <td>T20I # 1826</td>\n",
       "    </tr>\n",
       "    <tr>\n",
       "      <th>3</th>\n",
       "      <td>Ireland</td>\n",
       "      <td>Zimbabwe</td>\n",
       "      <td>Zimbabwe</td>\n",
       "      <td>31 runs</td>\n",
       "      <td>Hobart</td>\n",
       "      <td>Oct 17, 2022</td>\n",
       "      <td>T20I # 1828</td>\n",
       "    </tr>\n",
       "    <tr>\n",
       "      <th>4</th>\n",
       "      <td>Namibia</td>\n",
       "      <td>Netherlands</td>\n",
       "      <td>Netherlands</td>\n",
       "      <td>5 wickets</td>\n",
       "      <td>Geelong</td>\n",
       "      <td>Oct 18, 2022</td>\n",
       "      <td>T20I # 1830</td>\n",
       "    </tr>\n",
       "  </tbody>\n",
       "</table>\n",
       "</div>"
      ],
      "text/plain": [
       "         team1        team2       winner     margin   ground     matchDate  \\\n",
       "0      Namibia    Sri Lanka      Namibia    55 runs  Geelong  Oct 16, 2022   \n",
       "1  Netherlands       U.A.E.  Netherlands  3 wickets  Geelong  Oct 16, 2022   \n",
       "2     Scotland  West Indies     Scotland    42 runs   Hobart  Oct 17, 2022   \n",
       "3      Ireland     Zimbabwe     Zimbabwe    31 runs   Hobart  Oct 17, 2022   \n",
       "4      Namibia  Netherlands  Netherlands  5 wickets  Geelong  Oct 18, 2022   \n",
       "\n",
       "     scorecard  \n",
       "0  T20I # 1823  \n",
       "1  T20I # 1825  \n",
       "2  T20I # 1826  \n",
       "3  T20I # 1828  \n",
       "4  T20I # 1830  "
      ]
     },
     "execution_count": 23,
     "metadata": {},
     "output_type": "execute_result"
    }
   ],
   "source": [
    "df_match = pd.DataFrame(data[0]['matchSummary'])\n",
    "df_match.head()"
   ]
  },
  {
   "cell_type": "code",
   "execution_count": 29,
   "id": "dcefb123-e988-49c1-be27-78389501181c",
   "metadata": {},
   "outputs": [
    {
     "data": {
      "text/plain": [
       "(45, 7)"
      ]
     },
     "execution_count": 29,
     "metadata": {},
     "output_type": "execute_result"
    }
   ],
   "source": [
    "df_match.shape"
   ]
  },
  {
   "cell_type": "markdown",
   "id": "5acc3e93-ef3f-4ff7-a06c-14059251c6a7",
   "metadata": {},
   "source": [
    "### Python practicce"
   ]
  },
  {
   "cell_type": "code",
   "execution_count": 38,
   "id": "7e6f6a3e-c7ad-4785-a303-a0dd2917c021",
   "metadata": {},
   "outputs": [
    {
     "name": "stdin",
     "output_type": "stream",
     "text": [
      "Enter a number:  7\n"
     ]
    },
    {
     "name": "stdout",
     "output_type": "stream",
     "text": [
      "The number is odd\n"
     ]
    }
   ],
   "source": [
    "num = input(\"Enter a number: \")\n",
    "num = int(num)\n",
    "if num % 2 == 0:\n",
    "    print(\"The number is even\")\n",
    "else:\n",
    "    print (\"The number is odd\")"
   ]
  },
  {
   "cell_type": "code",
   "execution_count": 46,
   "id": "3fb3e654-1daf-432a-9602-da34b1bdb762",
   "metadata": {},
   "outputs": [
    {
     "name": "stdin",
     "output_type": "stream",
     "text": [
      "Enter a dish name:  fried rice\n"
     ]
    },
    {
     "name": "stdout",
     "output_type": "stream",
     "text": [
      "Chinese\n"
     ]
    }
   ],
   "source": [
    "indian = [\"dal\",\"rice\",\"pav bhaji\"]\n",
    "chinese = [\"fried rice\",\"machow soup\",\"hakka noodels\"]\n",
    "italian = [\"pizza\",\"burger\",\"pasta\"]\n",
    "\n",
    "dish = input(\"Enter a dish name: \")\n",
    "if dish in indian:\n",
    "    print(\"Indian\")\n",
    "elif dish in chinese:\n",
    "    print(\"Chinese\")\n",
    "elif dish in italian:\n",
    "    print(\"Italian\")\n",
    "else:\n",
    "    print(\"Other\")"
   ]
  },
  {
   "cell_type": "code",
   "execution_count": null,
   "id": "acb0792d-142a-4285-8989-ee0f3d875a6a",
   "metadata": {},
   "outputs": [],
   "source": [
    "## Funtion to find area of tirangle "
   ]
  },
  {
   "cell_type": "code",
   "execution_count": 76,
   "id": "70de62c0-87fc-4126-8600-e9ea07c53cfb",
   "metadata": {},
   "outputs": [
    {
     "name": "stdout",
     "output_type": "stream",
     "text": [
      "Area of retangle is:  100\n",
      "Area of triangle is:  50.0\n"
     ]
    }
   ],
   "source": [
    "def calculate_area (dim1,dim2,shape='triangle'):\n",
    "    if shape == \"triangle\":    \n",
    "        area = 1/2*(dim1*dim2)\n",
    "#        print(\"Area of triangle is : \", area)\n",
    "    elif shape == \"rectangle\":\n",
    "        area = dim1*dim2\n",
    "#        print(\"Area of rectangle is: \",area)\n",
    "    else:\n",
    "        print(\"undientified object\")\n",
    "    return area\n",
    "        \n",
    "length=10\n",
    "width=10\n",
    "rect_area = calculate_area(length,width,\"rectangle\")\n",
    "print (\"Area of retangle is: \", rect_area)\n",
    "\n",
    "\n",
    "height=10\n",
    "base=10\n",
    "tri_area = calculate_area(height,base,\"triangle\")\n",
    "print (\"Area of triangle is: \", tri_area)"
   ]
  },
  {
   "cell_type": "code",
   "execution_count": 192,
   "id": "b1fc4874-d194-431d-bd69-b77e1d3a13d0",
   "metadata": {},
   "outputs": [
    {
     "name": "stdout",
     "output_type": "stream",
     "text": [
      "*\n",
      "**\n",
      "***\n",
      "****\n",
      "*****\n"
     ]
    }
   ],
   "source": [
    "a=5\n",
    "for i in range(a):\n",
    "    s=''\n",
    "    for j in range(i+1):\n",
    "        s += '*'\n",
    "    print (s)"
   ]
  },
  {
   "cell_type": "code",
   "execution_count": null,
   "id": "3722179e-629c-46c7-933b-db0b5fb2c6e1",
   "metadata": {},
   "outputs": [],
   "source": [
    "### SORT"
   ]
  },
  {
   "cell_type": "code",
   "execution_count": 122,
   "id": "6bb2de57-c6d7-4955-a55e-ca45736a4f21",
   "metadata": {},
   "outputs": [
    {
     "name": "stdout",
     "output_type": "stream",
     "text": [
      "[1, 2, 3, 4, 5, 8, 9]\n"
     ]
    }
   ],
   "source": [
    "def sort(nums):\n",
    "    for i in range(len(nums)-1,0,-1):\n",
    "        for j in range(i):\n",
    "            if nums[j] > nums[j+1]:\n",
    "                temp=nums[j]\n",
    "                nums[j]=nums[j+1]\n",
    "                nums[j+1]=temp\n",
    "\n",
    "list = [8,5,9,2,1,4,3]\n",
    "\n",
    "sort(list)\n",
    "print (list)"
   ]
  },
  {
   "cell_type": "code",
   "execution_count": 128,
   "id": "e51d39df-722b-4f08-a5e7-bc0e6cd8dc6c",
   "metadata": {},
   "outputs": [
    {
     "data": {
      "text/plain": [
       "6"
      ]
     },
     "execution_count": 128,
     "metadata": {},
     "output_type": "execute_result"
    }
   ],
   "source": [
    "len(list)-1"
   ]
  },
  {
   "cell_type": "code",
   "execution_count": 140,
   "id": "91129a21-4726-41d3-86fc-df1241776ee3",
   "metadata": {},
   "outputs": [
    {
     "name": "stdout",
     "output_type": "stream",
     "text": [
      "0\n",
      "1\n",
      "2\n",
      "3\n",
      "4\n",
      "5\n"
     ]
    }
   ],
   "source": [
    "for i in range(6):\n",
    "    print (i)"
   ]
  },
  {
   "cell_type": "code",
   "execution_count": 138,
   "id": "87c4a05b-4dc0-493e-8cb0-2455107ce90e",
   "metadata": {},
   "outputs": [
    {
     "name": "stdout",
     "output_type": "stream",
     "text": [
      "6\n",
      "0\n",
      "1\n",
      "2\n",
      "3\n",
      "4\n",
      "5\n",
      "5\n",
      "0\n",
      "1\n",
      "2\n",
      "3\n",
      "4\n",
      "4\n",
      "0\n",
      "1\n",
      "2\n",
      "3\n",
      "3\n",
      "0\n",
      "1\n",
      "2\n",
      "2\n",
      "0\n",
      "1\n",
      "1\n",
      "0\n"
     ]
    }
   ],
   "source": [
    "for i in range(6,0,-1):\n",
    "    print (i)\n",
    "    for j in range(i):\n",
    "        print (j)"
   ]
  },
  {
   "cell_type": "code",
   "execution_count": null,
   "id": "e785b656-ba4f-4016-a5e2-b12c5d1b4d5f",
   "metadata": {},
   "outputs": [],
   "source": [
    "t=a\n",
    "a=b\n",
    "b=t"
   ]
  },
  {
   "cell_type": "code",
   "execution_count": 142,
   "id": "c88f0590-db89-4c4f-9d0c-60793f0b6e73",
   "metadata": {},
   "outputs": [
    {
     "name": "stdout",
     "output_type": "stream",
     "text": [
      "[1, 4, 5, 10, 20]\n"
     ]
    }
   ],
   "source": [
    "list=[10,20,1,4,5]\n",
    "\n",
    "def sort_num(list):\n",
    "    for i in range(len(list)-1,0,-1):\n",
    "        for j in range(i):\n",
    "            if list[j] > list[j+1]:\n",
    "                temp=list[j]\n",
    "                list[j]=list[j+1]\n",
    "                list[j+1]=temp\n",
    "\n",
    "sort_num(list)\n",
    "print (list)"
   ]
  },
  {
   "cell_type": "code",
   "execution_count": null,
   "id": "811858a7-2502-4200-89e1-94d90843dfc5",
   "metadata": {},
   "outputs": [],
   "source": []
  },
  {
   "cell_type": "code",
   "execution_count": null,
   "id": "91d958e0-f291-4d77-b939-5c4563711f8f",
   "metadata": {},
   "outputs": [],
   "source": [
    "import pandas as pd"
   ]
  },
  {
   "cell_type": "code",
   "execution_count": 152,
   "id": "0a984ba6-c113-4be9-b28c-8819f7f571d9",
   "metadata": {},
   "outputs": [
    {
     "ename": "NameError",
     "evalue": "name 'path_editor' is not defined",
     "output_type": "error",
     "traceback": [
      "\u001b[1;31m---------------------------------------------------------------------------\u001b[0m",
      "\u001b[1;31mNameError\u001b[0m                                 Traceback (most recent call last)",
      "Cell \u001b[1;32mIn[152], line 1\u001b[0m\n\u001b[1;32m----> 1\u001b[0m df \u001b[38;5;241m=\u001b[39m pd\u001b[38;5;241m.\u001b[39mread_excel(\u001b[38;5;124m\"\u001b[39m\u001b[38;5;132;01m{}\u001b[39;00m\u001b[38;5;124m\"\u001b[39m\u001b[38;5;241m.\u001b[39mformat(path_editor))\n",
      "\u001b[1;31mNameError\u001b[0m: name 'path_editor' is not defined"
     ]
    }
   ],
   "source": [
    "df = pd.read_excel(\"{}\".format(path))\n",
    "df"
   ]
  },
  {
   "cell_type": "code",
   "execution_count": null,
   "id": "d24fb576-8c0e-4daa-b2b9-d7d939f6ce62",
   "metadata": {},
   "outputs": [],
   "source": [
    "for col in df.columns:\n",
    "    if 'coded' in col:\n",
    "        continue\n",
    "    if 'Coded' in col:\n",
    "        continue\n",
    "    elif 'caseid' in col:\n",
    "        continue\n",
    "    else:\n",
    "        df.drop(col, axis=1, inplace=True)"
   ]
  },
  {
   "cell_type": "code",
   "execution_count": null,
   "id": "94f18108-14b8-4b7e-8583-28a7f9b2d90c",
   "metadata": {},
   "outputs": [],
   "source": [
    "df.to_excel(\"{}\".format(path),index=False)"
   ]
  },
  {
   "cell_type": "code",
   "execution_count": 199,
   "id": "a93f2cc6-e8c3-473d-8c5f-26a7e2041ecd",
   "metadata": {},
   "outputs": [
    {
     "name": "stdout",
     "output_type": "stream",
     "text": [
      "C:\\Users\\acer\n"
     ]
    }
   ],
   "source": [
    "import os\n",
    "print (os.getcwd())"
   ]
  },
  {
   "cell_type": "code",
   "execution_count": null,
   "id": "02633c25-c0ac-454b-b083-4ec76eb1c91b",
   "metadata": {},
   "outputs": [],
   "source": [
    "#Factors of a number"
   ]
  },
  {
   "cell_type": "code",
   "execution_count": 170,
   "id": "aa32e8a7-17e4-4aa2-b4a8-ceca1979d97a",
   "metadata": {},
   "outputs": [],
   "source": [
    "def factors(number):\n",
    "    factors=[]\n",
    "    for i in range(1,number+1):\n",
    "        if number%i==0:\n",
    "            factors.append(i)\n",
    "    return factors"
   ]
  },
  {
   "cell_type": "code",
   "execution_count": 174,
   "id": "930317b4-ba9d-4ad8-b477-8b8b234514d0",
   "metadata": {},
   "outputs": [
    {
     "name": "stdout",
     "output_type": "stream",
     "text": [
      "[1, 3, 5, 9, 15, 45]\n"
     ]
    }
   ],
   "source": [
    "abc=factors(45)\n",
    "print (abc)"
   ]
  },
  {
   "cell_type": "code",
   "execution_count": 176,
   "id": "52be4ac2-91fb-456e-9998-6d40b31f76e9",
   "metadata": {},
   "outputs": [],
   "source": [
    "abc[0]=3"
   ]
  },
  {
   "cell_type": "code",
   "execution_count": 180,
   "id": "8d97a073-8aee-496f-87ca-ce7f2ffa9e03",
   "metadata": {},
   "outputs": [
    {
     "name": "stdout",
     "output_type": "stream",
     "text": [
      "[3, 3, 5, 9, 15, 45]\n"
     ]
    }
   ],
   "source": [
    "print (abc)"
   ]
  },
  {
   "cell_type": "code",
   "execution_count": null,
   "id": "296dd3e0-5a1f-4af3-a906-1effcd7212b0",
   "metadata": {},
   "outputs": [],
   "source": [
    "number % i ==0"
   ]
  },
  {
   "cell_type": "code",
   "execution_count": 162,
   "id": "4669932f-0370-4f32-820e-143594b62af2",
   "metadata": {},
   "outputs": [],
   "source": [
    "def factorial(n):\n",
    "    result=1\n",
    "    for i in range(1,n+1):\n",
    "        result=result*i\n",
    "    return result"
   ]
  },
  {
   "cell_type": "code",
   "execution_count": 166,
   "id": "b5385547-edfc-4444-886a-40187ff9899c",
   "metadata": {},
   "outputs": [
    {
     "data": {
      "text/plain": [
       "720"
      ]
     },
     "execution_count": 166,
     "metadata": {},
     "output_type": "execute_result"
    }
   ],
   "source": [
    "factorial(6)"
   ]
  },
  {
   "cell_type": "code",
   "execution_count": null,
   "id": "2d8bb354-93ae-4a0d-85d8-617db658ffa7",
   "metadata": {},
   "outputs": [],
   "source": []
  }
 ],
 "metadata": {
  "kernelspec": {
   "display_name": "Python 3 (ipykernel)",
   "language": "python",
   "name": "python3"
  },
  "language_info": {
   "codemirror_mode": {
    "name": "ipython",
    "version": 3
   },
   "file_extension": ".py",
   "mimetype": "text/x-python",
   "name": "python",
   "nbconvert_exporter": "python",
   "pygments_lexer": "ipython3",
   "version": "3.12.4"
  }
 },
 "nbformat": 4,
 "nbformat_minor": 5
}
